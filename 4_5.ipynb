{
  "nbformat": 4,
  "nbformat_minor": 0,
  "metadata": {
    "colab": {
      "provenance": []
    },
    "kernelspec": {
      "name": "python3",
      "display_name": "Python 3"
    },
    "language_info": {
      "name": "python"
    }
  },
  "cells": [
    {
      "cell_type": "code",
      "execution_count": 1,
      "metadata": {
        "colab": {
          "base_uri": "https://localhost:8080/"
        },
        "id": "SiiUeHloKe3M",
        "outputId": "4f4c3b26-6cc9-46a2-9ee3-a06f9438ed94"
      },
      "outputs": [
        {
          "output_type": "stream",
          "name": "stdout",
          "text": [
            "\n",
            "WARNING: apt does not have a stable CLI interface. Use with caution in scripts.\n",
            "\n",
            "W: Skipping acquire of configured file 'main/source/Sources' as repository 'https://r2u.stat.illinois.edu/ubuntu jammy InRelease' does not seem to provide it (sources.list entry misspelt?)\n",
            "\n",
            "WARNING: apt does not have a stable CLI interface. Use with caution in scripts.\n",
            "\n",
            "Extracting templates from packages: 100%\n"
          ]
        }
      ],
      "source": [
        "!apt update > /dev/null && apt upgrade > /dev/null\n",
        "!pip install kaggle > /dev/null"
      ]
    },
    {
      "cell_type": "code",
      "source": [
        "import kagglehub\n",
        "import os\n",
        "\n",
        "# Download latest version\n",
        "# path 현재 파일이 다운로드된 경로\n",
        "path = kagglehub.dataset_download(\"computingvictor/transactions-fraud-datasets\")\n",
        "\n",
        "os.chdir(path) # 경로를 현재 다운로드된 파일들이 있는 경로로 변경\n",
        "print(os.getcwd()) # 현재 폴더 경로; 작업 폴더 기준\n",
        "print(os.listdir(os.getcwd()))"
      ],
      "metadata": {
        "colab": {
          "base_uri": "https://localhost:8080/"
        },
        "id": "JQN8w__rKiYN",
        "outputId": "7bbfdefc-ed8f-44fe-c2a0-282844db91f3"
      },
      "execution_count": 3,
      "outputs": [
        {
          "output_type": "stream",
          "name": "stdout",
          "text": [
            "Downloading from https://www.kaggle.com/api/v1/datasets/download/computingvictor/transactions-fraud-datasets?dataset_version_number=1...\n"
          ]
        },
        {
          "output_type": "stream",
          "name": "stderr",
          "text": [
            "100%|██████████| 348M/348M [00:08<00:00, 41.4MB/s]"
          ]
        },
        {
          "output_type": "stream",
          "name": "stdout",
          "text": [
            "Extracting files...\n"
          ]
        },
        {
          "output_type": "stream",
          "name": "stderr",
          "text": [
            "\n"
          ]
        },
        {
          "output_type": "stream",
          "name": "stdout",
          "text": [
            "/root/.cache/kagglehub/datasets/computingvictor/transactions-fraud-datasets/versions/1\n",
            "['users_data.csv', 'train_fraud_labels.json', 'mcc_codes.json', 'cards_data.csv', 'transactions_data.csv']\n"
          ]
        }
      ]
    },
    {
      "cell_type": "markdown",
      "source": [
        "병합"
      ],
      "metadata": {
        "id": "zgf3vjufKwd6"
      }
    },
    {
      "cell_type": "code",
      "source": [
        "import pandas as pd\n",
        "import json\n",
        "\n",
        "with open('train_fraud_labels.json') as f:\n",
        "    js = json.loads(f.read())\n",
        "fraud = pd.DataFrame(js)\n",
        "fraud = fraud.reset_index()\n",
        "fraud.columns = [\"id\", \"fraud\"]\n",
        "\n",
        "fraud['id'] = fraud['id'].astype(str)\n",
        "fraud['fraud'] = fraud['fraud'].astype(str)\n",
        "\n",
        "file_path = \"transactions_data.csv\"\n",
        "trans = pd.read_csv(file_path)\n",
        "columns_to_keep = [\"id\", \"client_id\"]\n",
        "# 특정 컬럼만 남기기\n",
        "trans = trans[columns_to_keep]\n",
        "\n",
        "trans['id'] = trans['id'].astype(str)\n",
        "trans['client_id'] = trans['client_id'].astype(str)\n",
        "\n",
        "merge = pd.merge(fraud, trans, on='id')\n",
        "\n",
        "file_path = \"users_data.csv\"\n",
        "card = pd.read_csv(file_path)\n",
        "\n",
        "columns_to_keep = [\"id\", \"current_age\"]\n",
        "\n",
        "# 특정 컬럼만 남기기\n",
        "card = card[columns_to_keep]\n",
        "\n",
        "print(card.head())\n",
        "print(card.dtypes)\n",
        "\n",
        "card['id'] = card['id'].astype(str)\n",
        "card['current_age'] = card['current_age'].astype(str)\n",
        "\n",
        "card.columns = [\"client_id\", \"current_age\"] # 다른 파일들에선 client_id = 현 파일에서의 id\n",
        "\n",
        "merge = pd.merge(merge, card, on='client_id')\n",
        "\n",
        "print(merge.head())\n",
        "columns_to_keep = [\"fraud\", \"current_age\"]\n",
        "# 특정 컬럼만 남기기\n",
        "merge = merge[columns_to_keep]\n",
        "print(merge.head())"
      ],
      "metadata": {
        "colab": {
          "base_uri": "https://localhost:8080/"
        },
        "id": "uPN1C5_PKlcN",
        "outputId": "3f3e8d8c-7cb9-4ff8-ed5b-3cfb6713f6e0"
      },
      "execution_count": 4,
      "outputs": [
        {
          "output_type": "stream",
          "name": "stdout",
          "text": [
            "     id  current_age\n",
            "0   825           53\n",
            "1  1746           53\n",
            "2  1718           81\n",
            "3   708           63\n",
            "4  1164           43\n",
            "id             int64\n",
            "current_age    int64\n",
            "dtype: object\n",
            "         id fraud client_id current_age\n",
            "0  10649266    No        11          39\n",
            "1  23410063    No       609          59\n",
            "2   9316588    No      1094          34\n",
            "3  12478022    No       944          58\n",
            "4   9558530    No       895          46\n",
            "  fraud current_age\n",
            "0    No          39\n",
            "1    No          59\n",
            "2    No          34\n",
            "3    No          58\n",
            "4    No          46\n"
          ]
        }
      ]
    },
    {
      "cell_type": "markdown",
      "source": [
        "나이의 최대값과 최소값 확인"
      ],
      "metadata": {
        "id": "PwnIZDHpMK9z"
      }
    },
    {
      "cell_type": "code",
      "source": [
        "merge['current_age'] = merge['current_age'].astype(int) # 이렇게 안하면 최소값이 101이고 최대값이 99인 매직이 일어납니다.\n",
        "\n",
        "max = merge['current_age'].max()\n",
        "min = merge['current_age'].min()\n",
        "\n",
        "print(f'최대값: {max}')\n",
        "print(f'최소값: {min}')"
      ],
      "metadata": {
        "colab": {
          "base_uri": "https://localhost:8080/"
        },
        "id": "HhuOePvNLWr7",
        "outputId": "051c7145-9db2-4ce8-cdaa-f4c7bcb98c1d"
      },
      "execution_count": 11,
      "outputs": [
        {
          "output_type": "stream",
          "name": "stdout",
          "text": [
            "최대값: 101\n",
            "최소값: 23\n"
          ]
        }
      ]
    },
    {
      "cell_type": "markdown",
      "source": [
        "20대, 30대, 40대\n",
        "10연대로 구분하겠다.\n",
        "그 후 막대그래프로 시각화"
      ],
      "metadata": {
        "id": "VcCDWgNONIWQ"
      }
    },
    {
      "cell_type": "code",
      "source": [
        "import matplotlib.pyplot as plt\n",
        "# 나이대를 정의\n",
        "def age_group(age):\n",
        "    if age < 30:\n",
        "        return \"20대\"\n",
        "    elif age < 40:\n",
        "        return \"30대\"\n",
        "    elif age < 50:\n",
        "        return \"40대\"\n",
        "    elif age < 60:\n",
        "        return \"50대\"\n",
        "    elif age < 70:\n",
        "        return \"60대\"\n",
        "    elif age < 80:\n",
        "        return \"70대\"\n",
        "    else:\n",
        "        return \"80대 이상\"\n",
        "\n",
        "# 나이대 컬럼 추가\n",
        "merge[\"age_group\"] = merge[\"current_age\"].apply(age_group)\n",
        "\n",
        "# fraud가 'Yes'인 경우만 필터링하여 나이대별 그룹화\n",
        "fraud_yes_counts = merge[merge[\"fraud\"] == \"Yes\"].groupby(\"age_group\").size()\n",
        "\n",
        "# 누락된 나이대를 0으로 채움\n",
        "all_age_groups = [\"20대\", \"30대\", \"40대\", \"50대\", \"60대\", \"70대\", \"80대 이상\"]\n",
        "fraud_yes_counts = fraud_yes_counts.reindex(all_age_groups, fill_value=0)\n",
        "\n",
        "# 막대그래프 시각화\n",
        "plt.figure(figsize=(10, 6))\n",
        "fraud_yes_counts.plot(kind=\"bar\", color=\"skyblue\", edgecolor=\"black\")\n",
        "plt.title(\"나이대별 Fraud 'Yes' 수\", fontsize=14)\n",
        "plt.xlabel(\"나이대\", fontsize=12)\n",
        "plt.ylabel(\"Fraud 'Yes' 횟수\", fontsize=12)\n",
        "plt.xticks(rotation=0)\n",
        "plt.grid(axis=\"y\", linestyle=\"--\", alpha=0.7)\n",
        "plt.show()"
      ],
      "metadata": {
        "colab": {
          "base_uri": "https://localhost:8080/",
          "height": 823
        },
        "id": "yATUA0-aMeEo",
        "outputId": "23ed0045-8eae-4fec-f4fe-9ebd91313a23"
      },
      "execution_count": 12,
      "outputs": [
        {
          "output_type": "stream",
          "name": "stderr",
          "text": [
            "/usr/local/lib/python3.10/dist-packages/IPython/core/pylabtools.py:151: UserWarning: Glyph 54943 (\\N{HANGUL SYLLABLE HOES}) missing from current font.\n",
            "  fig.canvas.print_figure(bytes_io, **kw)\n",
            "/usr/local/lib/python3.10/dist-packages/IPython/core/pylabtools.py:151: UserWarning: Glyph 49688 (\\N{HANGUL SYLLABLE SU}) missing from current font.\n",
            "  fig.canvas.print_figure(bytes_io, **kw)\n",
            "/usr/local/lib/python3.10/dist-packages/IPython/core/pylabtools.py:151: UserWarning: Glyph 45208 (\\N{HANGUL SYLLABLE NA}) missing from current font.\n",
            "  fig.canvas.print_figure(bytes_io, **kw)\n",
            "/usr/local/lib/python3.10/dist-packages/IPython/core/pylabtools.py:151: UserWarning: Glyph 51060 (\\N{HANGUL SYLLABLE I}) missing from current font.\n",
            "  fig.canvas.print_figure(bytes_io, **kw)\n",
            "/usr/local/lib/python3.10/dist-packages/IPython/core/pylabtools.py:151: UserWarning: Glyph 45824 (\\N{HANGUL SYLLABLE DAE}) missing from current font.\n",
            "  fig.canvas.print_figure(bytes_io, **kw)\n",
            "/usr/local/lib/python3.10/dist-packages/IPython/core/pylabtools.py:151: UserWarning: Glyph 48324 (\\N{HANGUL SYLLABLE BYEOL}) missing from current font.\n",
            "  fig.canvas.print_figure(bytes_io, **kw)\n",
            "/usr/local/lib/python3.10/dist-packages/IPython/core/pylabtools.py:151: UserWarning: Glyph 49345 (\\N{HANGUL SYLLABLE SANG}) missing from current font.\n",
            "  fig.canvas.print_figure(bytes_io, **kw)\n"
          ]
        },
        {
          "output_type": "display_data",
          "data": {
            "text/plain": [
              "<Figure size 1000x600 with 1 Axes>"
            ],
            "image/png": "[encoded data removed]"
          },
          "metadata": {}
        }
      ]
    },
    {
      "cell_type": "markdown",
      "source": [
        "5번"
      ],
      "metadata": {
        "id": "yUrW_NQIPNwy"
      }
    },
    {
      "cell_type": "markdown",
      "source": [
        "성별과 나이대를 동시에 가지는 데이터 생성\n",
        "나이대별 어떤 성별이 사기거래에 당했는지를 알기 위해 시각화"
      ],
      "metadata": {
        "id": "kRiWcnk9PYSo"
      }
    },
    {
      "cell_type": "code",
      "source": [
        "import pandas as pd\n",
        "import json\n",
        "\n",
        "with open('train_fraud_labels.json') as f:\n",
        "    js = json.loads(f.read())\n",
        "fraud = pd.DataFrame(js)\n",
        "fraud = fraud.reset_index()\n",
        "fraud.columns = [\"id\", \"fraud\"]\n",
        "\n",
        "fraud['id'] = fraud['id'].astype(str)\n",
        "fraud['fraud'] = fraud['fraud'].astype(str)\n",
        "\n",
        "file_path = \"transactions_data.csv\"\n",
        "trans = pd.read_csv(file_path)\n",
        "columns_to_keep = [\"id\", \"client_id\"]\n",
        "# 특정 컬럼만 남기기\n",
        "trans = trans[columns_to_keep]\n",
        "\n",
        "trans['id'] = trans['id'].astype(str)\n",
        "trans['client_id'] = trans['client_id'].astype(str)\n",
        "\n",
        "merge = pd.merge(fraud, trans, on='id')\n",
        "\n",
        "file_path = \"users_data.csv\"\n",
        "card = pd.read_csv(file_path)\n",
        "\n",
        "columns_to_keep = [\"id\", \"current_age\", \"gender\"]\n",
        "\n",
        "# 특정 컬럼만 남기기\n",
        "card = card[columns_to_keep]\n",
        "\n",
        "print(card.head())\n",
        "print(card.dtypes)\n",
        "\n",
        "card['id'] = card['id'].astype(str)\n",
        "card['current_age'] = card['current_age'].astype(str)\n",
        "card['gender'] = card['gender'].astype(str)\n",
        "\n",
        "card.columns = [\"client_id\", \"current_age\", \"gender\"] # 다른 파일들에선 client_id = 현 파일에서의 id\n",
        "\n",
        "merge = pd.merge(merge, card, on='client_id')\n",
        "\n",
        "print(merge.head())\n",
        "columns_to_keep = [\"fraud\", \"current_age\", \"gender\"]\n",
        "# 특정 컬럼만 남기기\n",
        "merge = merge[columns_to_keep]\n",
        "print(merge.head())"
      ],
      "metadata": {
        "colab": {
          "base_uri": "https://localhost:8080/"
        },
        "id": "U5l-lsYlOXn_",
        "outputId": "ff2c472c-b038-45e0-ae2e-e319801a4763"
      },
      "execution_count": 14,
      "outputs": [
        {
          "output_type": "stream",
          "name": "stdout",
          "text": [
            "     id  current_age  gender\n",
            "0   825           53  Female\n",
            "1  1746           53  Female\n",
            "2  1718           81  Female\n",
            "3   708           63  Female\n",
            "4  1164           43    Male\n",
            "id              int64\n",
            "current_age     int64\n",
            "gender         object\n",
            "dtype: object\n",
            "         id fraud client_id current_age  gender\n",
            "0  10649266    No        11          39  Female\n",
            "1  23410063    No       609          59    Male\n",
            "2   9316588    No      1094          34    Male\n",
            "3  12478022    No       944          58    Male\n",
            "4   9558530    No       895          46  Female\n",
            "  fraud current_age  gender\n",
            "0    No          39  Female\n",
            "1    No          59    Male\n",
            "2    No          34    Male\n",
            "3    No          58    Male\n",
            "4    No          46  Female\n"
          ]
        }
      ]
    },
    {
      "cell_type": "markdown",
      "source": [
        "한글이 깨지지 않도록 설정"
      ],
      "metadata": {
        "id": "0DFn4YpaRvHp"
      }
    },
    {
      "cell_type": "code",
      "source": [
        "!sudo apt-get install -y fonts-nanum\n",
        "!sudo fc-cache -fv\n",
        "!rm ~/.cache/matplotlib -rf"
      ],
      "metadata": {
        "colab": {
          "base_uri": "https://localhost:8080/"
        },
        "id": "YqxOm-H7PXip",
        "outputId": "fd1db2cb-97bf-4efb-86e6-2639c5ee1f53"
      },
      "execution_count": 15,
      "outputs": [
        {
          "output_type": "stream",
          "name": "stdout",
          "text": [
            "Reading package lists... Done\n",
            "Building dependency tree... Done\n",
            "Reading state information... Done\n",
            "The following packages were automatically installed and are no longer required:\n",
            "  linux-headers-5.15.0-125 linux-headers-5.15.0-125-generic\n",
            "Use 'sudo apt autoremove' to remove them.\n",
            "The following NEW packages will be installed:\n",
            "  fonts-nanum\n",
            "0 upgraded, 1 newly installed, 0 to remove and 4 not upgraded.\n",
            "Need to get 10.3 MB of archives.\n",
            "After this operation, 34.1 MB of additional disk space will be used.\n",
            "Get:1 http://archive.ubuntu.com/ubuntu jammy/universe amd64 fonts-nanum all 20200506-1 [10.3 MB]\n",
            "Fetched 10.3 MB in 1s (11.8 MB/s)\n",
            "debconf: unable to initialize frontend: Dialog\n",
            "debconf: (No usable dialog-like program is installed, so the dialog based frontend cannot be used. at /usr/share/perl5/Debconf/FrontEnd/Dialog.pm line 78, <> line 1.)\n",
            "debconf: falling back to frontend: Readline\n",
            "debconf: unable to initialize frontend: Readline\n",
            "debconf: (This frontend requires a controlling tty.)\n",
            "debconf: falling back to frontend: Teletype\n",
            "dpkg-preconfigure: unable to re-open stdin: \n",
            "Selecting previously unselected package fonts-nanum.\n",
            "(Reading database ... 151895 files and directories currently installed.)\n",
            "Preparing to unpack .../fonts-nanum_20200506-1_all.deb ...\n",
            "Unpacking fonts-nanum (20200506-1) ...\n",
            "Setting up fonts-nanum (20200506-1) ...\n",
            "Processing triggers for fontconfig (2.13.1-4.2ubuntu5) ...\n",
            "/usr/share/fonts: caching, new cache contents: 0 fonts, 1 dirs\n",
            "/usr/share/fonts/truetype: caching, new cache contents: 0 fonts, 3 dirs\n",
            "/usr/share/fonts/truetype/humor-sans: caching, new cache contents: 1 fonts, 0 dirs\n",
            "/usr/share/fonts/truetype/liberation: caching, new cache contents: 16 fonts, 0 dirs\n",
            "/usr/share/fonts/truetype/nanum: caching, new cache contents: 12 fonts, 0 dirs\n",
            "/usr/local/share/fonts: caching, new cache contents: 0 fonts, 0 dirs\n",
            "/root/.local/share/fonts: skipping, no such directory\n",
            "/root/.fonts: skipping, no such directory\n",
            "/usr/share/fonts/truetype: skipping, looped directory detected\n",
            "/usr/share/fonts/truetype/humor-sans: skipping, looped directory detected\n",
            "/usr/share/fonts/truetype/liberation: skipping, looped directory detected\n",
            "/usr/share/fonts/truetype/nanum: skipping, looped directory detected\n",
            "/var/cache/fontconfig: cleaning cache directory\n",
            "/root/.cache/fontconfig: not cleaning non-existent cache directory\n",
            "/root/.fontconfig: not cleaning non-existent cache directory\n",
            "fc-cache: succeeded\n"
          ]
        }
      ]
    },
    {
      "cell_type": "markdown",
      "source": [
        "한글 폰트 설정"
      ],
      "metadata": {
        "id": "zOvVfkEnRxqc"
      }
    },
    {
      "cell_type": "code",
      "source": [
        "import matplotlib.pyplot as plt\n",
        "import numpy as np\n",
        "\n",
        "plt.rc('font', family='NanumBarunGothic')"
      ],
      "metadata": {
        "id": "s71AZCBDRavE"
      },
      "execution_count": 16,
      "outputs": []
    },
    {
      "cell_type": "code",
      "source": [
        "merge[\"fraud\"] = merge[\"fraud\"].astype(str)\n",
        "merge[\"current_age\"] = merge[\"current_age\"].astype(int)\n",
        "merge[\"gender\"] = merge[\"gender\"].astype(str)\n",
        "\n",
        "# 나이대를 정의\n",
        "def age_group(age):\n",
        "    if age < 30:\n",
        "        return \"20대\"\n",
        "    elif age < 40:\n",
        "        return \"30대\"\n",
        "    elif age < 50:\n",
        "        return \"40대\"\n",
        "    elif age < 60:\n",
        "        return \"50대\"\n",
        "    elif age < 70:\n",
        "        return \"60대\"\n",
        "    elif age < 80:\n",
        "        return \"70대\"\n",
        "    else:\n",
        "        return \"80대 이상\"\n",
        "\n",
        "# 나이대 컬럼 추가\n",
        "merge[\"age_group\"] = merge[\"current_age\"].apply(age_group)\n",
        "\n",
        "# fraud가 'Yes'인 경우만 필터링\n",
        "fraud_yes = merge[merge[\"fraud\"] == \"Yes\"]\n",
        "\n",
        "# 나이대와 성별별로 그룹화하여 횟수 집계\n",
        "age_gender_counts = fraud_yes.groupby([\"age_group\", \"gender\"]).size().unstack(fill_value=0)\n",
        "\n",
        "# 모든 나이대를 포함하도록 재정렬 (누락된 나이대 처리)\n",
        "all_age_groups = [\"20대\", \"30대\", \"40대\", \"50대\", \"60대\", \"70대\", \"80대 이상\"]\n",
        "age_gender_counts = age_gender_counts.reindex(all_age_groups, fill_value=0)\n",
        "\n",
        "# 막대그래프 시각화\n",
        "x = np.arange(len(all_age_groups))  # 각 나이대의 x축 위치\n",
        "width = 0.4  # 막대 너비\n",
        "\n",
        "plt.figure(figsize=(12, 6))\n",
        "plt.bar(x - width/2, age_gender_counts[\"Female\"], width, label=\"Female\", color=\"pink\", edgecolor=\"black\")\n",
        "plt.bar(x + width/2, age_gender_counts[\"Male\"], width, label=\"Male\", color=\"lightblue\", edgecolor=\"black\")\n",
        "\n",
        "# 그래프 설정\n",
        "plt.title(\"나이대별 성별 Fraud 'Yes' 수\", fontsize=14)\n",
        "plt.xlabel(\"나이대\", fontsize=12)\n",
        "plt.ylabel(\"Fraud 'Yes' 횟수\", fontsize=12)\n",
        "plt.xticks(x, all_age_groups, fontsize=10)  # x축 눈금에 나이대 추가\n",
        "plt.legend(title=\"Gender\", fontsize=10)\n",
        "plt.grid(axis=\"y\", linestyle=\"--\", alpha=0.7)\n",
        "plt.show()"
      ],
      "metadata": {
        "colab": {
          "base_uri": "https://localhost:8080/",
          "height": 1000
        },
        "id": "6cN7OTWTRkzq",
        "outputId": "d1dc51c8-3cf0-4a44-f183-f955bd2acdc0"
      },
      "execution_count": 18,
      "outputs": [
        {
          "output_type": "stream",
          "name": "stderr",
          "text": [
            "WARNING:matplotlib.font_manager:findfont: Font family 'NanumBarunGothic' not found.\n",
            "WARNING:matplotlib.font_manager:findfont: Font family 'NanumBarunGothic' not found.\n",
            "WARNING:matplotlib.font_manager:findfont: Font family 'NanumBarunGothic' not found.\n",
            "WARNING:matplotlib.font_manager:findfont: Font family 'NanumBarunGothic' not found.\n",
            "WARNING:matplotlib.font_manager:findfont: Font family 'NanumBarunGothic' not found.\n",
            "WARNING:matplotlib.font_manager:findfont: Font family 'NanumBarunGothic' not found.\n",
            "WARNING:matplotlib.font_manager:findfont: Font family 'NanumBarunGothic' not found.\n",
            "WARNING:matplotlib.font_manager:findfont: Font family 'NanumBarunGothic' not found.\n",
            "WARNING:matplotlib.font_manager:findfont: Font family 'NanumBarunGothic' not found.\n",
            "WARNING:matplotlib.font_manager:findfont: Font family 'NanumBarunGothic' not found.\n",
            "WARNING:matplotlib.font_manager:findfont: Font family 'NanumBarunGothic' not found.\n",
            "WARNING:matplotlib.font_manager:findfont: Font family 'NanumBarunGothic' not found.\n",
            "/usr/local/lib/python3.10/dist-packages/IPython/core/pylabtools.py:151: UserWarning: Glyph 54943 (\\N{HANGUL SYLLABLE HOES}) missing from current font.\n",
            "  fig.canvas.print_figure(bytes_io, **kw)\n",
            "/usr/local/lib/python3.10/dist-packages/IPython/core/pylabtools.py:151: UserWarning: Glyph 49688 (\\N{HANGUL SYLLABLE SU}) missing from current font.\n",
            "  fig.canvas.print_figure(bytes_io, **kw)\n",
            "WARNING:matplotlib.font_manager:findfont: Font family 'NanumBarunGothic' not found.\n",
            "WARNING:matplotlib.font_manager:findfont: Font family 'NanumBarunGothic' not found.\n",
            "/usr/local/lib/python3.10/dist-packages/IPython/core/pylabtools.py:151: UserWarning: Glyph 45208 (\\N{HANGUL SYLLABLE NA}) missing from current font.\n",
            "  fig.canvas.print_figure(bytes_io, **kw)\n",
            "/usr/local/lib/python3.10/dist-packages/IPython/core/pylabtools.py:151: UserWarning: Glyph 51060 (\\N{HANGUL SYLLABLE I}) missing from current font.\n",
            "  fig.canvas.print_figure(bytes_io, **kw)\n",
            "/usr/local/lib/python3.10/dist-packages/IPython/core/pylabtools.py:151: UserWarning: Glyph 45824 (\\N{HANGUL SYLLABLE DAE}) missing from current font.\n",
            "  fig.canvas.print_figure(bytes_io, **kw)\n",
            "/usr/local/lib/python3.10/dist-packages/IPython/core/pylabtools.py:151: UserWarning: Glyph 48324 (\\N{HANGUL SYLLABLE BYEOL}) missing from current font.\n",
            "  fig.canvas.print_figure(bytes_io, **kw)\n",
            "/usr/local/lib/python3.10/dist-packages/IPython/core/pylabtools.py:151: UserWarning: Glyph 49457 (\\N{HANGUL SYLLABLE SEONG}) missing from current font.\n",
            "  fig.canvas.print_figure(bytes_io, **kw)\n",
            "WARNING:matplotlib.font_manager:findfont: Font family 'NanumBarunGothic' not found.\n",
            "WARNING:matplotlib.font_manager:findfont: Font family 'NanumBarunGothic' not found.\n",
            "WARNING:matplotlib.font_manager:findfont: Font family 'NanumBarunGothic' not found.\n",
            "WARNING:matplotlib.font_manager:findfont: Font family 'NanumBarunGothic' not found.\n",
            "WARNING:matplotlib.font_manager:findfont: Font family 'NanumBarunGothic' not found.\n",
            "WARNING:matplotlib.font_manager:findfont: Font family 'NanumBarunGothic' not found.\n",
            "WARNING:matplotlib.font_manager:findfont: Font family 'NanumBarunGothic' not found.\n",
            "/usr/local/lib/python3.10/dist-packages/IPython/core/pylabtools.py:151: UserWarning: Glyph 49345 (\\N{HANGUL SYLLABLE SANG}) missing from current font.\n",
            "  fig.canvas.print_figure(bytes_io, **kw)\n",
            "WARNING:matplotlib.font_manager:findfont: Font family 'NanumBarunGothic' not found.\n",
            "WARNING:matplotlib.font_manager:findfont: Font family 'NanumBarunGothic' not found.\n",
            "WARNING:matplotlib.font_manager:findfont: Font family 'NanumBarunGothic' not found.\n",
            "WARNING:matplotlib.font_manager:findfont: Font family 'NanumBarunGothic' not found.\n",
            "WARNING:matplotlib.font_manager:findfont: Font family 'NanumBarunGothic' not found.\n",
            "WARNING:matplotlib.font_manager:findfont: Font family 'NanumBarunGothic' not found.\n",
            "WARNING:matplotlib.font_manager:findfont: Font family 'NanumBarunGothic' not found.\n",
            "WARNING:matplotlib.font_manager:findfont: Font family 'NanumBarunGothic' not found.\n",
            "WARNING:matplotlib.font_manager:findfont: Font family 'NanumBarunGothic' not found.\n",
            "WARNING:matplotlib.font_manager:findfont: Font family 'NanumBarunGothic' not found.\n",
            "WARNING:matplotlib.font_manager:findfont: Font family 'NanumBarunGothic' not found.\n",
            "WARNING:matplotlib.font_manager:findfont: Font family 'NanumBarunGothic' not found.\n",
            "WARNING:matplotlib.font_manager:findfont: Font family 'NanumBarunGothic' not found.\n",
            "WARNING:matplotlib.font_manager:findfont: Font family 'NanumBarunGothic' not found.\n",
            "WARNING:matplotlib.font_manager:findfont: Font family 'NanumBarunGothic' not found.\n",
            "WARNING:matplotlib.font_manager:findfont: Font family 'NanumBarunGothic' not found.\n",
            "WARNING:matplotlib.font_manager:findfont: Font family 'NanumBarunGothic' not found.\n",
            "WARNING:matplotlib.font_manager:findfont: Font family 'NanumBarunGothic' not found.\n",
            "WARNING:matplotlib.font_manager:findfont: Font family 'NanumBarunGothic' not found.\n",
            "WARNING:matplotlib.font_manager:findfont: Font family 'NanumBarunGothic' not found.\n",
            "WARNING:matplotlib.font_manager:findfont: Font family 'NanumBarunGothic' not found.\n",
            "WARNING:matplotlib.font_manager:findfont: Font family 'NanumBarunGothic' not found.\n",
            "WARNING:matplotlib.font_manager:findfont: Font family 'NanumBarunGothic' not found.\n",
            "WARNING:matplotlib.font_manager:findfont: Font family 'NanumBarunGothic' not found.\n",
            "WARNING:matplotlib.font_manager:findfont: Font family 'NanumBarunGothic' not found.\n",
            "WARNING:matplotlib.font_manager:findfont: Font family 'NanumBarunGothic' not found.\n",
            "WARNING:matplotlib.font_manager:findfont: Font family 'NanumBarunGothic' not found.\n",
            "WARNING:matplotlib.font_manager:findfont: Font family 'NanumBarunGothic' not found.\n",
            "WARNING:matplotlib.font_manager:findfont: Font family 'NanumBarunGothic' not found.\n",
            "WARNING:matplotlib.font_manager:findfont: Font family 'NanumBarunGothic' not found.\n",
            "WARNING:matplotlib.font_manager:findfont: Font family 'NanumBarunGothic' not found.\n",
            "WARNING:matplotlib.font_manager:findfont: Font family 'NanumBarunGothic' not found.\n",
            "WARNING:matplotlib.font_manager:findfont: Font family 'NanumBarunGothic' not found.\n",
            "WARNING:matplotlib.font_manager:findfont: Font family 'NanumBarunGothic' not found.\n",
            "WARNING:matplotlib.font_manager:findfont: Font family 'NanumBarunGothic' not found.\n",
            "WARNING:matplotlib.font_manager:findfont: Font family 'NanumBarunGothic' not found.\n",
            "WARNING:matplotlib.font_manager:findfont: Font family 'NanumBarunGothic' not found.\n",
            "WARNING:matplotlib.font_manager:findfont: Font family 'NanumBarunGothic' not found.\n",
            "WARNING:matplotlib.font_manager:findfont: Font family 'NanumBarunGothic' not found.\n",
            "WARNING:matplotlib.font_manager:findfont: Font family 'NanumBarunGothic' not found.\n",
            "WARNING:matplotlib.font_manager:findfont: Font family 'NanumBarunGothic' not found.\n",
            "WARNING:matplotlib.font_manager:findfont: Font family 'NanumBarunGothic' not found.\n",
            "WARNING:matplotlib.font_manager:findfont: Font family 'NanumBarunGothic' not found.\n",
            "WARNING:matplotlib.font_manager:findfont: Font family 'NanumBarunGothic' not found.\n",
            "WARNING:matplotlib.font_manager:findfont: Font family 'NanumBarunGothic' not found.\n",
            "WARNING:matplotlib.font_manager:findfont: Font family 'NanumBarunGothic' not found.\n",
            "WARNING:matplotlib.font_manager:findfont: Font family 'NanumBarunGothic' not found.\n",
            "WARNING:matplotlib.font_manager:findfont: Font family 'NanumBarunGothic' not found.\n",
            "WARNING:matplotlib.font_manager:findfont: Font family 'NanumBarunGothic' not found.\n",
            "WARNING:matplotlib.font_manager:findfont: Font family 'NanumBarunGothic' not found.\n",
            "WARNING:matplotlib.font_manager:findfont: Font family 'NanumBarunGothic' not found.\n",
            "WARNING:matplotlib.font_manager:findfont: Font family 'NanumBarunGothic' not found.\n",
            "WARNING:matplotlib.font_manager:findfont: Font family 'NanumBarunGothic' not found.\n",
            "WARNING:matplotlib.font_manager:findfont: Font family 'NanumBarunGothic' not found.\n",
            "WARNING:matplotlib.font_manager:findfont: Font family 'NanumBarunGothic' not found.\n",
            "WARNING:matplotlib.font_manager:findfont: Font family 'NanumBarunGothic' not found.\n",
            "WARNING:matplotlib.font_manager:findfont: Font family 'NanumBarunGothic' not found.\n",
            "WARNING:matplotlib.font_manager:findfont: Font family 'NanumBarunGothic' not found.\n",
            "WARNING:matplotlib.font_manager:findfont: Font family 'NanumBarunGothic' not found.\n",
            "WARNING:matplotlib.font_manager:findfont: Font family 'NanumBarunGothic' not found.\n",
            "WARNING:matplotlib.font_manager:findfont: Font family 'NanumBarunGothic' not found.\n",
            "WARNING:matplotlib.font_manager:findfont: Font family 'NanumBarunGothic' not found.\n",
            "WARNING:matplotlib.font_manager:findfont: Font family 'NanumBarunGothic' not found.\n",
            "WARNING:matplotlib.font_manager:findfont: Font family 'NanumBarunGothic' not found.\n",
            "WARNING:matplotlib.font_manager:findfont: Font family 'NanumBarunGothic' not found.\n",
            "WARNING:matplotlib.font_manager:findfont: Font family 'NanumBarunGothic' not found.\n",
            "WARNING:matplotlib.font_manager:findfont: Font family 'NanumBarunGothic' not found.\n",
            "WARNING:matplotlib.font_manager:findfont: Font family 'NanumBarunGothic' not found.\n",
            "WARNING:matplotlib.font_manager:findfont: Font family 'NanumBarunGothic' not found.\n",
            "WARNING:matplotlib.font_manager:findfont: Font family 'NanumBarunGothic' not found.\n",
            "WARNING:matplotlib.font_manager:findfont: Font family 'NanumBarunGothic' not found.\n",
            "WARNING:matplotlib.font_manager:findfont: Font family 'NanumBarunGothic' not found.\n",
            "WARNING:matplotlib.font_manager:findfont: Font family 'NanumBarunGothic' not found.\n",
            "WARNING:matplotlib.font_manager:findfont: Font family 'NanumBarunGothic' not found.\n",
            "WARNING:matplotlib.font_manager:findfont: Font family 'NanumBarunGothic' not found.\n",
            "WARNING:matplotlib.font_manager:findfont: Font family 'NanumBarunGothic' not found.\n",
            "WARNING:matplotlib.font_manager:findfont: Font family 'NanumBarunGothic' not found.\n",
            "WARNING:matplotlib.font_manager:findfont: Font family 'NanumBarunGothic' not found.\n",
            "WARNING:matplotlib.font_manager:findfont: Font family 'NanumBarunGothic' not found.\n",
            "WARNING:matplotlib.font_manager:findfont: Font family 'NanumBarunGothic' not found.\n",
            "WARNING:matplotlib.font_manager:findfont: Font family 'NanumBarunGothic' not found.\n",
            "WARNING:matplotlib.font_manager:findfont: Font family 'NanumBarunGothic' not found.\n",
            "WARNING:matplotlib.font_manager:findfont: Font family 'NanumBarunGothic' not found.\n",
            "WARNING:matplotlib.font_manager:findfont: Font family 'NanumBarunGothic' not found.\n"
          ]
        },
        {
          "output_type": "display_data",
          "data": {
            "text/plain": [
              "<Figure size 1200x600 with 1 Axes>"
            ],
            "image/png": "[encoded data removed]"
          },
          "metadata": {}
        }
      ]
    },
    {
      "cell_type": "markdown",
      "source": [
        "뭐가 문제인지 모르겠지만 한글은 여전히 깨진다"
      ],
      "metadata": {
        "id": "wxI6c_Q6SBro"
      }
    },
    {
      "cell_type": "code",
      "source": [],
      "metadata": {
        "id": "28KuIH0HRqHC"
      },
      "execution_count": null,
      "outputs": []
    }
  ]
}