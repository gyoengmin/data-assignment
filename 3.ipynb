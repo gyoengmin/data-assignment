{
  "nbformat": 4,
  "nbformat_minor": 0,
  "metadata": {
    "colab": {
      "provenance": []
    },
    "kernelspec": {
      "name": "python3",
      "display_name": "Python 3"
    },
    "language_info": {
      "name": "python"
    }
  },
  "cells": [
    {
      "cell_type": "code",
      "execution_count": 1,
      "metadata": {
        "colab": {
          "base_uri": "https://localhost:8080/"
        },
        "id": "W84hpl7KCPfs",
        "outputId": "bf4d4220-6930-4144-f651-edf8853dc8ed"
      },
      "outputs": [
        {
          "output_type": "stream",
          "name": "stdout",
          "text": [
            "\n",
            "WARNING: apt does not have a stable CLI interface. Use with caution in scripts.\n",
            "\n",
            "W: Skipping acquire of configured file 'main/source/Sources' as repository 'https://r2u.stat.illinois.edu/ubuntu jammy InRelease' does not seem to provide it (sources.list entry misspelt?)\n",
            "\n",
            "WARNING: apt does not have a stable CLI interface. Use with caution in scripts.\n",
            "\n",
            "Extracting templates from packages: 100%\n"
          ]
        }
      ],
      "source": [
        "!apt update > /dev/null && apt upgrade > /dev/null\n",
        "!pip install kaggle > /dev/null"
      ]
    },
    {
      "cell_type": "code",
      "source": [
        "import kagglehub\n",
        "import os\n",
        "\n",
        "# Download latest version\n",
        "# path 현재 파일이 다운로드된 경로\n",
        "path = kagglehub.dataset_download(\"computingvictor/transactions-fraud-datasets\")\n",
        "\n",
        "os.chdir(path) # 경로를 현재 다운로드된 파일들이 있는 경로로 변경\n",
        "print(os.getcwd()) # 현재 폴더 경로; 작업 폴더 기준\n",
        "print(os.listdir(os.getcwd()))"
      ],
      "metadata": {
        "colab": {
          "base_uri": "https://localhost:8080/"
        },
        "id": "H5P4ipKCDIvM",
        "outputId": "b8fe0c65-37f4-4f11-8d32-3004acfe265c"
      },
      "execution_count": 2,
      "outputs": [
        {
          "output_type": "stream",
          "name": "stdout",
          "text": [
            "Downloading from https://www.kaggle.com/api/v1/datasets/download/computingvictor/transactions-fraud-datasets?dataset_version_number=1...\n"
          ]
        },
        {
          "output_type": "stream",
          "name": "stderr",
          "text": [
            "100%|██████████| 348M/348M [00:02<00:00, 174MB/s]"
          ]
        },
        {
          "output_type": "stream",
          "name": "stdout",
          "text": [
            "Extracting files...\n"
          ]
        },
        {
          "output_type": "stream",
          "name": "stderr",
          "text": [
            "\n"
          ]
        },
        {
          "output_type": "stream",
          "name": "stdout",
          "text": [
            "/root/.cache/kagglehub/datasets/computingvictor/transactions-fraud-datasets/versions/1\n",
            "['users_data.csv', 'train_fraud_labels.json', 'mcc_codes.json', 'cards_data.csv', 'transactions_data.csv']\n"
          ]
        }
      ]
    },
    {
      "cell_type": "markdown",
      "source": [
        "필요한 부분을 병합 (사기여부, 성별)"
      ],
      "metadata": {
        "id": "IUDxGYRwD047"
      }
    },
    {
      "cell_type": "markdown",
      "source": [
        "fraud + client_id"
      ],
      "metadata": {
        "id": "veqHg3G5GXOo"
      }
    },
    {
      "cell_type": "code",
      "source": [
        "import pandas as pd\n",
        "import json\n",
        "\n",
        "with open('train_fraud_labels.json') as f:\n",
        "    js = json.loads(f.read())\n",
        "fraud = pd.DataFrame(js)\n",
        "fraud = fraud.reset_index()\n",
        "fraud.columns = [\"id\", \"fraud\"]\n",
        "\n",
        "fraud['id'] = fraud['id'].astype(str)\n",
        "fraud['fraud'] = fraud['fraud'].astype(str)\n",
        "\n",
        "file_path = \"transactions_data.csv\"\n",
        "trans = pd.read_csv(file_path)\n",
        "columns_to_keep = [\"id\", \"client_id\"]\n",
        "# 특정 컬럼만 남기기\n",
        "trans = trans[columns_to_keep]\n",
        "\n",
        "trans['id'] = trans['id'].astype(str)\n",
        "trans['client_id'] = trans['client_id'].astype(str)\n",
        "\n",
        "merge = pd.merge(fraud, trans, on='id')"
      ],
      "metadata": {
        "id": "hp2zuVlfDdzv"
      },
      "execution_count": 5,
      "outputs": []
    },
    {
      "cell_type": "markdown",
      "source": [
        "fraud + (client_id) + gender"
      ],
      "metadata": {
        "id": "Y6lTYPVrGbKS"
      }
    },
    {
      "cell_type": "code",
      "source": [
        "file_path = \"users_data.csv\"\n",
        "card = pd.read_csv(file_path)\n",
        "\n",
        "columns_to_keep = [\"id\", \"gender\"]\n",
        "\n",
        "# 특정 컬럼만 남기기\n",
        "card = card[columns_to_keep]\n",
        "\n",
        "print(card.head())\n",
        "print(card.dtypes)\n",
        "\n",
        "card['id'] = card['id'].astype(str)\n",
        "card['gender'] = card['gender'].astype(str)\n",
        "\n",
        "card.columns = [\"client_id\", \"gender\"] # 다른 파일들에선 client_id = 현 파일에서의 id"
      ],
      "metadata": {
        "colab": {
          "base_uri": "https://localhost:8080/"
        },
        "id": "8pseMtl9EzZx",
        "outputId": "6c7fceaa-ca30-447a-f409-9c849ad51805"
      },
      "execution_count": 10,
      "outputs": [
        {
          "output_type": "stream",
          "name": "stdout",
          "text": [
            "     id  gender\n",
            "0   825  Female\n",
            "1  1746  Female\n",
            "2  1718  Female\n",
            "3   708  Female\n",
            "4  1164    Male\n",
            "id         int64\n",
            "gender    object\n",
            "dtype: object\n"
          ]
        }
      ]
    },
    {
      "cell_type": "code",
      "source": [
        "merge = pd.merge(merge, card, on='client_id')"
      ],
      "metadata": {
        "id": "gqWNb7ufG7ZC"
      },
      "execution_count": 11,
      "outputs": []
    },
    {
      "cell_type": "code",
      "source": [
        "print(merge.head())\n",
        "columns_to_keep = [\"fraud\", \"gender\"]\n",
        "# 특정 컬럼만 남기기\n",
        "merge = merge[columns_to_keep]\n",
        "print(merge.head())"
      ],
      "metadata": {
        "colab": {
          "base_uri": "https://localhost:8080/"
        },
        "id": "D_xmNzkeHst0",
        "outputId": "a15c569c-3bb4-4119-fb5b-59a1bc41cfa1"
      },
      "execution_count": 13,
      "outputs": [
        {
          "output_type": "stream",
          "name": "stdout",
          "text": [
            "         id fraud client_id  gender\n",
            "0  10649266    No        11  Female\n",
            "1  23410063    No       609    Male\n",
            "2   9316588    No      1094    Male\n",
            "3  12478022    No       944    Male\n",
            "4   9558530    No       895  Female\n",
            "  fraud  gender\n",
            "0    No  Female\n",
            "1    No    Male\n",
            "2    No    Male\n",
            "3    No    Male\n",
            "4    No  Female\n"
          ]
        }
      ]
    },
    {
      "cell_type": "markdown",
      "source": [
        "사기를 당한 전체 비율 중 남성과 여성의 비율을 pie chart로 시각화"
      ],
      "metadata": {
        "id": "VVgTDzxuIKpw"
      }
    },
    {
      "cell_type": "code",
      "source": [
        "import matplotlib.pyplot as plt\n",
        "\n",
        "# 사기 여부가 'Yes'인 경우만 필터링\n",
        "fraud_counts = merge[merge[\"fraud\"] == \"Yes\"].groupby(\"gender\").size()\n",
        "\n",
        "# 여성과 남성이 사기당한 횟수 CLI 출력\n",
        "print(\"사기당한 횟수:\")\n",
        "print(f\"여성: {fraud_counts.get('Female', 0)}회\")\n",
        "print(f\"남성: {fraud_counts.get('Male', 0)}회\")\n",
        "\n",
        "# 전체 사기 횟수에서 성별 비율 계산\n",
        "fraud_ratios = fraud_counts / fraud_counts.sum()\n",
        "\n",
        "# 파이 차트 그리기\n",
        "plt.figure(figsize=(8, 8))\n",
        "fraud_ratios.plot(kind='pie', autopct='%1.1f%%', labels=[\"Female\", \"Male\"], colors=[\"pink\", \"lightblue\"])\n",
        "plt.title(\"Fraud Yes Ratio by Gender\")\n",
        "plt.ylabel(\"\")  # y축 라벨 제거\n",
        "plt.show()"
      ],
      "metadata": {
        "colab": {
          "base_uri": "https://localhost:8080/",
          "height": 729
        },
        "id": "9qAmrBZvHwly",
        "outputId": "5adfcb85-25a4-418d-fec6-cf1f0adee4d1"
      },
      "execution_count": 14,
      "outputs": [
        {
          "output_type": "stream",
          "name": "stdout",
          "text": [
            "사기당한 횟수:\n",
            "여성: 6982회\n",
            "남성: 6350회\n"
          ]
        },
        {
          "output_type": "display_data",
          "data": {
            "text/plain": [
              "<Figure size 800x800 with 1 Axes>"
            ],
            "image/png": "[encoded data removed]"
          },
          "metadata": {}
        }
      ]
    },
    {
      "cell_type": "code",
      "source": [],
      "metadata": {
        "id": "tLm4GXwpJI4b"
      },
      "execution_count": null,
      "outputs": []
    }
  ]
}